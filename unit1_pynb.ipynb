{
  "cells": [
    {
      "cell_type": "markdown",
      "metadata": {
        "id": "view-in-github",
        "colab_type": "text"
      },
      "source": [
        "<a href=\"https://colab.research.google.com/github/aayushjha0559-tech/python-class/blob/main/unit1_pynb.ipynb\" target=\"_parent\"><img src=\"https://colab.research.google.com/assets/colab-badge.svg\" alt=\"Open In Colab\"/></a>"
      ]
    },
    {
      "cell_type": "markdown",
      "source": [
        "1. swap  two variable\n"
      ],
      "metadata": {
        "id": "eGm0J3jMA9Nd"
      }
    },
    {
      "cell_type": "code",
      "source": [
        "a=10\n",
        "b=20\n",
        "a,b=b,a\n",
        "print(a,b)"
      ],
      "metadata": {
        "colab": {
          "base_uri": "https://localhost:8080/"
        },
        "id": "JdcZm8aUcwrd",
        "outputId": "043d1367-bbc5-43df-c393-6729d7fc820d"
      },
      "execution_count": null,
      "outputs": [
        {
          "output_type": "stream",
          "name": "stdout",
          "text": [
            "20 10\n"
          ]
        }
      ]
    },
    {
      "cell_type": "markdown",
      "source": [
        "#TYPECASTING CONCEPTS"
      ],
      "metadata": {
        "id": "SMhbXGwXD4tN"
      }
    },
    {
      "cell_type": "markdown",
      "source": [
        "2.hulk's strength level is recorded as a string input 1000.convert it into integer and increase it by 200."
      ],
      "metadata": {
        "id": "ckla8Wp1XBGo"
      }
    },
    {
      "cell_type": "code",
      "source": [
        "hulk_strength=\"1000\"\n",
        "new_strength=int(hulk_strength)+200\n",
        "print(new_strength)\n"
      ],
      "metadata": {
        "id": "wC05XmoBBDiv",
        "colab": {
          "base_uri": "https://localhost:8080/"
        },
        "outputId": "27c026b7-e5f3-4b5a-dd17-3ec97df11137"
      },
      "execution_count": null,
      "outputs": [
        {
          "output_type": "stream",
          "name": "stdout",
          "text": [
            "1200\n"
          ]
        }
      ]
    },
    {
      "cell_type": "markdown",
      "source": [],
      "metadata": {
        "id": "z5bxVMOoasnm"
      }
    },
    {
      "cell_type": "markdown",
      "source": [
        "3. Thor's hammer weight is 5000 in  int.calculate gravitational force which is required in float."
      ],
      "metadata": {
        "id": "L4SDXy2oX_I2"
      }
    },
    {
      "cell_type": "code",
      "source": [
        "hammer=5000\n",
        "force=float(hammer*(9.8))\n",
        "print(force)\n"
      ],
      "metadata": {
        "colab": {
          "base_uri": "https://localhost:8080/"
        },
        "id": "aqNXExkgY-Oa",
        "outputId": "6e2d963f-a0dc-454e-fbfe-cc8f38f974d4"
      },
      "execution_count": null,
      "outputs": [
        {
          "output_type": "stream",
          "name": "stdout",
          "text": [
            "49000.0\n"
          ]
        }
      ]
    },
    {
      "cell_type": "markdown",
      "source": [
        "4. rocky Gets input in seconds as a string 3600.convert it into integer and then into hours"
      ],
      "metadata": {
        "id": "cs3jiEhrb5lx"
      }
    },
    {
      "cell_type": "code",
      "source": [
        "time=\"3600\"\n",
        "int_time=int(time)\n",
        "hours=int_time/3600\n",
        "print(hours)\n",
        "\n"
      ],
      "metadata": {
        "colab": {
          "base_uri": "https://localhost:8080/"
        },
        "id": "Q3pfR3LecLS1",
        "outputId": "d6d2f0d9-1787-4f70-b436-205deb414112"
      },
      "execution_count": null,
      "outputs": [
        {
          "output_type": "stream",
          "name": "stdout",
          "text": [
            "1.0\n"
          ]
        }
      ]
    },
    {
      "cell_type": "markdown",
      "source": [],
      "metadata": {
        "id": "P8rj3PU7c9Ms"
      }
    },
    {
      "cell_type": "markdown",
      "source": [
        "5.iron man  recorded 7 hits out of 10 shots both in integer.comvert them into float and calculate accuracy percentage."
      ],
      "metadata": {
        "id": "Gpvryxs1c_eW"
      }
    },
    {
      "cell_type": "code",
      "source": [
        "hits=7\n",
        "total=10\n",
        "accuracy=(float(hits)*100)/total\n",
        "print(accuracy)"
      ],
      "metadata": {
        "colab": {
          "base_uri": "https://localhost:8080/"
        },
        "id": "RtKG-qcmdR5f",
        "outputId": "c1d8bb08-80d2-4d08-ad1c-85fee2e3b1e0"
      },
      "execution_count": null,
      "outputs": [
        {
          "output_type": "stream",
          "name": "stdout",
          "text": [
            "70.0\n"
          ]
        }
      ]
    },
    {
      "cell_type": "markdown",
      "source": [
        "#OBJECT REFERENCING"
      ],
      "metadata": {
        "id": "52IeUfk8irDE"
      }
    },
    {
      "cell_type": "markdown",
      "source": [
        "1.python variables hold the references for object not the actual object themselves"
      ],
      "metadata": {
        "id": "hnuG-q0Ifw9m"
      }
    },
    {
      "cell_type": "code",
      "source": [
        "a=[1,2,3]\n",
        "b=a\n",
        "b.append(4)\n",
        "print(a)\n",
        "print(b)"
      ],
      "metadata": {
        "colab": {
          "base_uri": "https://localhost:8080/"
        },
        "id": "8vR4QScjgIqm",
        "outputId": "1a19aaaa-9c07-4405-8904-7c400127805e"
      },
      "execution_count": null,
      "outputs": [
        {
          "output_type": "stream",
          "name": "stdout",
          "text": [
            "[1, 2, 3, 4]\n",
            "[1, 2, 3, 4]\n"
          ]
        }
      ]
    },
    {
      "cell_type": "markdown",
      "source": [],
      "metadata": {
        "id": "WG8jjnwcYEL6"
      }
    },
    {
      "cell_type": "markdown",
      "source": [
        "2.Reassigning a variable does not affect other variables refenrencing the same object unless explicitly updated."
      ],
      "metadata": {
        "id": "UzwWBjaRgqca"
      }
    },
    {
      "cell_type": "code",
      "source": [
        "a=[1,2,3]\n",
        "b=a\n",
        "b=[4,5,6]\n",
        "print(a)\n",
        "print(b)"
      ],
      "metadata": {
        "colab": {
          "base_uri": "https://localhost:8080/"
        },
        "id": "EksuV791gsWw",
        "outputId": "5d5d0699-7cc9-4c6b-ec23-0d499138cf8f"
      },
      "execution_count": null,
      "outputs": [
        {
          "output_type": "stream",
          "name": "stdout",
          "text": [
            "[1, 2, 3]\n",
            "[4, 5, 6]\n"
          ]
        }
      ]
    },
    {
      "cell_type": "markdown",
      "source": [
        "3."
      ],
      "metadata": {
        "id": "BfpSNYgJhGVG"
      }
    },
    {
      "cell_type": "code",
      "source": [
        "\n",
        "shield=[\"vibranium\",\"round\"]\n",
        "copy_shield=shield\n",
        "print(\"original shield is \",shield)\n",
        "print(\"wolverine changes the shield materials\")\n",
        "copy_shield[0]=\"adamantium\"\n",
        "print(\"new shield is :\",shield)\n"
      ],
      "metadata": {
        "colab": {
          "base_uri": "https://localhost:8080/"
        },
        "id": "lpOjJ__thHit",
        "outputId": "97136fa5-850e-4cb9-9f13-74f7e75b5b86"
      },
      "execution_count": null,
      "outputs": [
        {
          "output_type": "stream",
          "name": "stdout",
          "text": [
            "original shield is  ['vibranium', 'round']\n",
            "wolverine changes the shield materials\n",
            "new shield is : ['adamantium', 'round']\n"
          ]
        }
      ]
    },
    {
      "cell_type": "code",
      "source": [
        "a=10\n",
        "del(a)\n",
        "print(a)"
      ],
      "metadata": {
        "colab": {
          "base_uri": "https://localhost:8080/",
          "height": 176
        },
        "id": "ywXFni-pEiTj",
        "outputId": "ac809189-d1bd-4659-ac4b-3f2ecf461304"
      },
      "execution_count": null,
      "outputs": [
        {
          "output_type": "error",
          "ename": "NameError",
          "evalue": "name 'a' is not defined",
          "traceback": [
            "\u001b[0;31m---------------------------------------------------------------------------\u001b[0m",
            "\u001b[0;31mNameError\u001b[0m                                 Traceback (most recent call last)",
            "\u001b[0;32m/tmp/ipython-input-1418604385.py\u001b[0m in \u001b[0;36m<cell line: 0>\u001b[0;34m()\u001b[0m\n\u001b[1;32m      1\u001b[0m \u001b[0ma\u001b[0m\u001b[0;34m=\u001b[0m\u001b[0;36m10\u001b[0m\u001b[0;34m\u001b[0m\u001b[0;34m\u001b[0m\u001b[0m\n\u001b[1;32m      2\u001b[0m \u001b[0;32mdel\u001b[0m\u001b[0;34m(\u001b[0m\u001b[0ma\u001b[0m\u001b[0;34m)\u001b[0m\u001b[0;34m\u001b[0m\u001b[0;34m\u001b[0m\u001b[0m\n\u001b[0;32m----> 3\u001b[0;31m \u001b[0mprint\u001b[0m\u001b[0;34m(\u001b[0m\u001b[0ma\u001b[0m\u001b[0;34m)\u001b[0m\u001b[0;34m\u001b[0m\u001b[0;34m\u001b[0m\u001b[0m\n\u001b[0m",
            "\u001b[0;31mNameError\u001b[0m: name 'a' is not defined"
          ]
        }
      ]
    },
    {
      "cell_type": "markdown",
      "source": [
        "#DATA **TYPES**"
      ],
      "metadata": {
        "id": "q_AgLD67JQ6l"
      }
    },
    {
      "cell_type": "markdown",
      "source": [
        "1.numeric :- int,float,complex\n",
        "2.text:-string\n",
        "3.bool\n",
        "4.sequences -list(mutable),tuple(immutable) ,range\n",
        "5.sets-set,frozenset\n",
        "6.Binary-byte,bytearray,memoryview\n",
        "7.memory-\n",
        "8.none\n",
        "\n",
        "---\n",
        "\n",
        "\n",
        "\n"
      ],
      "metadata": {
        "id": "SpxSMAhiLDhJ"
      }
    },
    {
      "cell_type": "code",
      "source": [
        "x=50\n",
        "x=60.5\n",
        "x=[\"mr\"]"
      ],
      "metadata": {
        "id": "F2-UOFf3O_X2"
      },
      "execution_count": null,
      "outputs": []
    },
    {
      "cell_type": "markdown",
      "source": [
        "1.int:used for categorical encodings,class id,one-hot indexing and token ids in NLP.\n",
        "2.float:represent real value data like features,prediction,gradients and weights\n",
        "3.complex:-used in signal processing ,spectral methods for example FFT in EEG.\n",
        "4.float 32/float 64 -standard in deep learning framework like pytorch,Tensorflow to balance precision and memory usage.\n",
        "5.int 32/int 64-useful for labels,indexing arrays/Tensors and specifying sequence length in NLP.\n",
        "\n"
      ],
      "metadata": {
        "id": "u2tnhXEGPu6b"
      }
    },
    {
      "cell_type": "code",
      "source": [
        "power_levels=[86,92.5,95,88.0,91]\n",
        "if power_levels:\n",
        "avg_power = round(sum(power_levels)/len(power_levels),2)\n",
        "else:\n",
        "avg_power = 0\n",
        "print(avg_power)"
      ],
      "metadata": {
        "colab": {
          "base_uri": "https://localhost:8080/",
          "height": 106
        },
        "id": "SpRt5jHFUGF3",
        "outputId": "d8dfe45f-0039-4bf1-ec69-3843bd35b268"
      },
      "execution_count": null,
      "outputs": [
        {
          "output_type": "error",
          "ename": "IndentationError",
          "evalue": "expected an indented block after 'if' statement on line 2 (ipython-input-2848659346.py, line 3)",
          "traceback": [
            "\u001b[0;36m  File \u001b[0;32m\"/tmp/ipython-input-2848659346.py\"\u001b[0;36m, line \u001b[0;32m3\u001b[0m\n\u001b[0;31m    avg_power = round(sum(power_levels)/len(power_levels),2)\u001b[0m\n\u001b[0m    ^\u001b[0m\n\u001b[0;31mIndentationError\u001b[0m\u001b[0;31m:\u001b[0m expected an indented block after 'if' statement on line 2\n"
          ]
        }
      ]
    },
    {
      "cell_type": "code",
      "source": [
        "power_levels=[86,92.5,95,88.0,91]\n",
        "if power_levels:\n",
        "    avg_power = round(sum(power_levels)/len(power_levels),2)\n",
        "else:\n",
        "    avg_power = 0\n",
        "print(avg_power)"
      ],
      "metadata": {
        "colab": {
          "base_uri": "https://localhost:8080/"
        },
        "id": "ef4iavv0TfpG",
        "outputId": "79041921-7cfb-4354-e1cb-7006de6addb3"
      },
      "execution_count": null,
      "outputs": [
        {
          "output_type": "stream",
          "name": "stdout",
          "text": [
            "90.5\n"
          ]
        }
      ]
    },
    {
      "cell_type": "markdown",
      "source": [
        "#Calculating average"
      ],
      "metadata": {
        "id": "ZZe10RXqLqjt"
      }
    },
    {
      "cell_type": "code",
      "source": [
        "import statistics\n",
        "power_level = {\n",
        "    \"Ironman\": 100, \"Hulk\": 200\n",
        "}\n",
        "avg_power=statistics.mean(power_level.values())\n",
        "print(avg_power)"
      ],
      "metadata": {
        "colab": {
          "base_uri": "https://localhost:8080/"
        },
        "id": "UYAE8ozJLYJh",
        "outputId": "c081cbd5-634f-4c17-9d10-f71e3c2ccb58"
      },
      "execution_count": null,
      "outputs": [
        {
          "output_type": "stream",
          "name": "stdout",
          "text": [
            "150\n"
          ]
        }
      ]
    },
    {
      "cell_type": "markdown",
      "source": [
        "interview tip\n",
        "dictionary vs list\n",
        "1.dictionary is best when data can be mapped whereas list works best when order or sequence matters.\n",
        "2.Efficiency be ready to compte averages in 1 pass using built in functions or libraries.\n",
        "3.Keep the time complexity in mind."
      ],
      "metadata": {
        "id": "nlIjF1c8a5nB"
      }
    },
    {
      "cell_type": "markdown",
      "source": [
        "1.Write a python program to find largest and smallest number in a list ."
      ],
      "metadata": {
        "id": "fffOvfTYbowD"
      }
    },
    {
      "cell_type": "code",
      "source": [
        "num=[10,2,8,4]\n",
        "max = min = num[0]\n",
        "for n in num :\n",
        "  if max < n:\n",
        "    max = n\n",
        "  if min > n:\n",
        "    min  = n\n",
        "print(\"max is \",max)\n",
        "print(\"min is \",min)"
      ],
      "metadata": {
        "colab": {
          "base_uri": "https://localhost:8080/"
        },
        "id": "oqbnEmpQdab3",
        "outputId": "0b923580-627c-47bd-8fbc-5e753ad5fd99"
      },
      "execution_count": null,
      "outputs": [
        {
          "output_type": "stream",
          "name": "stdout",
          "text": [
            "max is  10\n",
            "min is  2\n"
          ]
        }
      ]
    },
    {
      "cell_type": "markdown",
      "source": [
        "2. rotate a list to the right by k steps"
      ],
      "metadata": {
        "id": "EfultOQfd70l"
      }
    },
    {
      "cell_type": "code",
      "source": [
        "num = [10,2,8,4]\n",
        "k = 2 # Define the number of steps to rotate\n",
        "k = k % len(num)\n",
        "rotated = num[-k: ] + num[ : -k]\n",
        "print(rotated)"
      ],
      "metadata": {
        "colab": {
          "base_uri": "https://localhost:8080/"
        },
        "id": "OUWPIPuNgg71",
        "outputId": "4821eeb9-c149-4e3c-e1c5-c760cad70935"
      },
      "execution_count": null,
      "outputs": [
        {
          "output_type": "stream",
          "name": "stdout",
          "text": [
            "[8, 4, 10, 2]\n"
          ]
        }
      ]
    },
    {
      "cell_type": "markdown",
      "source": [
        "#STRINGS\n",
        "1.strings are the arrrays of bytes representing unique code  characters ,no separate character data types.\n",
        "2. The string can be created using single quote double quote or triple quote.\n",
        "3.Access individual characters via indexijng ,starting at 0.\n",
        "4.Strings are immutable.\n",
        "5.A string can be repeated by multiplying it by an integer.\n",
        "6.Function that is used for string is str.\n"
      ],
      "metadata": {
        "id": "_bFA_9wSKXfP"
      }
    },
    {
      "cell_type": "code",
      "source": [
        "s1=\"This is example of a string\"\n",
        "print(s1)\n",
        "s2=\"This\"+\" is\"+\" also\"+\" an\"+\" example\"+' of'+\" a\"+''' string'''\n",
        "print(s2)\n",
        "s3=\"This is a\\\n",
        " ........... single line\"\n",
        "print(s3)\n",
        "s4=\"hulk:smash\"\n",
        "print(s4*3)\n",
        "s5=\"#This is not a comment\"\n",
        "print(s5)\n",
        "print(\"Length of th string is \" ,len(s5))\n",
        "print(\"the first character is :\",s5[0])\n",
        "print(\"the last character is :\",s5[-1])\n",
        "print(s5[-0]) # in python 0and -0 are same\n",
        "print(\"The substring of s5 is:\",s5[ : ])\n",
        "# this concept is known as slicing.\n",
        "# THE APPLICATON OF SLICING IS DIVIDING THE DATA SET INTO TEST AND TRAIN SUBSETS.\n",
        "print(\"The substring of s5 is:\",s5[ :4])\n",
        "print(\"The substring of s5 is:\",s5[2:4])\n",
        "s2[0]=\"b\"\n",
        "print(s2)\n"
      ],
      "metadata": {
        "colab": {
          "base_uri": "https://localhost:8080/",
          "height": 401
        },
        "id": "pDtksUyuKXO2",
        "outputId": "79a12b31-cf79-4797-916d-6c4d360f43f2"
      },
      "execution_count": null,
      "outputs": [
        {
          "output_type": "stream",
          "name": "stdout",
          "text": [
            "This is example of a string\n",
            "This is also an example of a string\n",
            "This is a ........... single line\n",
            "hulk:smashhulk:smashhulk:smash\n",
            "#This is not a comment\n",
            "Length of th string is  22\n",
            "the first character is : #\n",
            "the last character is : t\n",
            "#\n",
            "The substring of s5 is: #This is not a comment\n",
            "The substring of s5 is: #Thi\n",
            "The substring of s5 is: hi\n"
          ]
        },
        {
          "output_type": "error",
          "ename": "TypeError",
          "evalue": "'str' object does not support item assignment",
          "traceback": [
            "\u001b[0;31m---------------------------------------------------------------------------\u001b[0m",
            "\u001b[0;31mTypeError\u001b[0m                                 Traceback (most recent call last)",
            "\u001b[0;32m/tmp/ipython-input-2115599486.py\u001b[0m in \u001b[0;36m<cell line: 0>\u001b[0;34m()\u001b[0m\n\u001b[1;32m     19\u001b[0m \u001b[0mprint\u001b[0m\u001b[0;34m(\u001b[0m\u001b[0;34m\"The substring of s5 is:\"\u001b[0m\u001b[0;34m,\u001b[0m\u001b[0ms5\u001b[0m\u001b[0;34m[\u001b[0m \u001b[0;34m:\u001b[0m\u001b[0;36m4\u001b[0m\u001b[0;34m]\u001b[0m\u001b[0;34m)\u001b[0m\u001b[0;34m\u001b[0m\u001b[0;34m\u001b[0m\u001b[0m\n\u001b[1;32m     20\u001b[0m \u001b[0mprint\u001b[0m\u001b[0;34m(\u001b[0m\u001b[0;34m\"The substring of s5 is:\"\u001b[0m\u001b[0;34m,\u001b[0m\u001b[0ms5\u001b[0m\u001b[0;34m[\u001b[0m\u001b[0;36m2\u001b[0m\u001b[0;34m:\u001b[0m\u001b[0;36m4\u001b[0m\u001b[0;34m]\u001b[0m\u001b[0;34m)\u001b[0m\u001b[0;34m\u001b[0m\u001b[0;34m\u001b[0m\u001b[0m\n\u001b[0;32m---> 21\u001b[0;31m \u001b[0ms2\u001b[0m\u001b[0;34m[\u001b[0m\u001b[0;36m0\u001b[0m\u001b[0;34m]\u001b[0m\u001b[0;34m=\u001b[0m\u001b[0;34m\"b\"\u001b[0m\u001b[0;34m\u001b[0m\u001b[0;34m\u001b[0m\u001b[0m\n\u001b[0m\u001b[1;32m     22\u001b[0m \u001b[0mprint\u001b[0m\u001b[0;34m(\u001b[0m\u001b[0ms2\u001b[0m\u001b[0;34m)\u001b[0m\u001b[0;34m\u001b[0m\u001b[0;34m\u001b[0m\u001b[0m\n",
            "\u001b[0;31mTypeError\u001b[0m: 'str' object does not support item assignment"
          ]
        }
      ]
    },
    {
      "cell_type": "markdown",
      "source": [
        "#indexing in lists start from 0 because to minimize the number of operations"
      ],
      "metadata": {
        "id": "KI7RzmBJOGqa"
      }
    },
    {
      "cell_type": "code",
      "source": [
        "name =\"iron_man\"\n",
        "for ch in name:\n",
        "  print(ch,end=\"*\")\n",
        "s2 =\"loop\"\n",
        "for i in range(len(s2)):\n",
        "  print(-i,s2[-i])\n"
      ],
      "metadata": {
        "colab": {
          "base_uri": "https://localhost:8080/"
        },
        "id": "9p-zRZDKTqdg",
        "outputId": "96eaebd0-06e8-477f-e019-db70f3625a90"
      },
      "execution_count": null,
      "outputs": [
        {
          "output_type": "stream",
          "name": "stdout",
          "text": [
            "i*r*o*n*_*m*a*n*0 l\n",
            "-1 p\n",
            "-2 o\n",
            "-3 o\n"
          ]
        }
      ]
    },
    {
      "cell_type": "markdown",
      "source": [
        "#REVERSE A STRING"
      ],
      "metadata": {
        "id": "10asW1J6cDlI"
      }
    },
    {
      "cell_type": "code",
      "source": [
        "s2=\"Loop\"\n",
        "print(s2[::-1])\n",
        "print(s2[::1])\n",
        "print(s2[::2])\n",
        "print(s2[4:6:])\n",
        "# for i in range(1,len(s2)+1):\n",
        "#   print(s2[len(s2)-i])"
      ],
      "metadata": {
        "colab": {
          "base_uri": "https://localhost:8080/"
        },
        "id": "MrfdWOvhT2vz",
        "outputId": "d22d3780-6609-429a-97f8-600ccd00e340"
      },
      "execution_count": null,
      "outputs": [
        {
          "output_type": "stream",
          "name": "stdout",
          "text": [
            "pooL\n",
            "Loop\n",
            "Lo\n",
            "\n"
          ]
        }
      ]
    },
    {
      "cell_type": "markdown",
      "source": [
        "#ASCII code"
      ],
      "metadata": {
        "id": "DUNX-28lcv_y"
      }
    },
    {
      "cell_type": "markdown",
      "source": [
        "1.in the early 1960's a standard was published called as american standard code for information interchange.\n",
        "2.It specify a mapping of binary valures to characters.\n",
        "3.It uses 7 bits to represent characters from 0 to 127.\n",
        "4.A to Z 65 to 90\n",
        "5.a to z 97 to 122.\n",
        "Problem with ascii code is that the ascii character set is limited and not designed to handle character from other languages.\n",
        "solution is unicode\n",
        "a unicode standard define more than 1 lakh characters\n",
        "python key uses unicode by default(UTF-8)\n",
        "unicodes string allows global langauge support prefix:u"
      ],
      "metadata": {
        "id": "toy-4GdMc1zk"
      }
    },
    {
      "cell_type": "code",
      "source": [
        "s1=\"\\u03c0\"\n",
        "print(s1)\n",
        "s2=\"\\u00B2\"\n",
        "print(s2)\n",
        "s3=\"\\u00B1\"\n",
        "print(s3)\n",
        "s4=\"\\u00B3\"\n",
        "print(s4)"
      ],
      "metadata": {
        "colab": {
          "base_uri": "https://localhost:8080/"
        },
        "id": "fjcxBGCEeDyx",
        "outputId": "d7aece6e-4f7c-452c-cfd2-48aebc29258e"
      },
      "execution_count": null,
      "outputs": [
        {
          "output_type": "stream",
          "name": "stdout",
          "text": [
            "π\n",
            "²\n",
            "±\n",
            "³\n"
          ]
        }
      ]
    },
    {
      "cell_type": "markdown",
      "source": [
        "1.\\0 :Null ,ASCII value is 0\n",
        "2.\\a : BEL ,ASCII value is 7 it is used to generate alert\n",
        "3.\\b: Backspace ,ASCII value is 8\n",
        "4.\\t :horizontal tab,ASCII value is 9\n",
        "5.\\n :new line ,ASCII value is 10\n",
        "6.\\v: vertical tab, ASCII value is 11\n",
        "7.\\f : form feed(new page) ,ASCII value is 12\n",
        "8.\\r : carriage return ,ASCII value is 13"
      ],
      "metadata": {
        "id": "cx3xw9WUe0E7"
      }
    },
    {
      "cell_type": "code",
      "source": [
        "print(\"Ironman \\nHI\")\n",
        "print(\"ironman\\t captain america\")\n",
        "print(\"C:\\\\Avenger\\\\date\")\n",
        "print(\"HULK \\a\")#it will trigger a beep sound on supported terminal\n",
        "print(\"HULK \\v HI\")"
      ],
      "metadata": {
        "colab": {
          "base_uri": "https://localhost:8080/"
        },
        "id": "t18jYY9Pf3u7",
        "outputId": "3f98e53b-659e-409c-aff3-a90d82ef9a66"
      },
      "execution_count": null,
      "outputs": [
        {
          "output_type": "stream",
          "name": "stdout",
          "text": [
            "Ironman \n",
            "HI\n",
            "ironman\t captain america\n",
            "C:\\Avenger\\date\n",
            "HULK \u0007\n",
            "HULK \u000b HI\n"
          ]
        }
      ]
    },
    {
      "cell_type": "markdown",
      "source": [
        "#METHODS OF STRING\n"
      ],
      "metadata": {
        "id": "JIwWGWgQhScH"
      }
    },
    {
      "cell_type": "markdown",
      "source": [
        "1.Lower and upper case\n",
        "WE can use these methods in NLP\n",
        "2.STRIP METHOD it removes special characters or wide spaces that are either trailing or leading .It does not remove the  special characters or whitespaces which lie in middle\n",
        "3.Replace function helps to remove all the special characters and white spaces from string\n",
        "4.Split  / join\n",
        "5.find\n",
        "6.count function\n",
        "7.starts with\n",
        "8.ends with\n"
      ],
      "metadata": {
        "id": "wQBOHxwAhWZr"
      }
    },
    {
      "cell_type": "code",
      "source": [
        "review=\"This movie is amazing\"\n",
        "print(review.upper())\n",
        "print(review.lower())\n",
        "tweet=\"@AIROCKS\"\n",
        "print(tweet.strip())\n",
        "print(tweet.strip(\"@\"))\n",
        "s1=\"AI@ROCKS\"\n",
        "print(s1.strip(\"@\"))\n",
        "print(s1.replace(\"@\",\"\"))\n",
        "tokens=review.split()\n",
        "print(tokens)\n",
        "print(\"\".join(tokens))\n",
        "print(\" \".join(tokens))"
      ],
      "metadata": {
        "colab": {
          "base_uri": "https://localhost:8080/"
        },
        "id": "9jHioBWohani",
        "outputId": "b055705b-83c4-48a4-845a-d66eb01e9db9"
      },
      "execution_count": null,
      "outputs": [
        {
          "output_type": "stream",
          "name": "stdout",
          "text": [
            "THIS MOVIE IS AMAZING\n",
            "this movie is amazing\n",
            "@AIROCKS\n",
            "AIROCKS\n",
            "AI@ROCKS\n",
            "AIROCKS\n",
            "['This', 'movie', 'is', 'amazing']\n",
            "Thismovieisamazing\n",
            "This movie is amazing\n"
          ]
        }
      ]
    },
    {
      "cell_type": "code",
      "source": [
        "text = \"this is python python class\"\n",
        "print(text.find(\"python\"))\n",
        "print(text.find(\"p\",7,11))\n",
        "print(text.find(\"q\"))\n",
        "print(text.index(\"q\"))\n"
      ],
      "metadata": {
        "colab": {
          "base_uri": "https://localhost:8080/",
          "height": 245
        },
        "id": "Vq3-rPGemPW_",
        "outputId": "c12ea395-31ba-4211-bc89-c1e4093d00da"
      },
      "execution_count": null,
      "outputs": [
        {
          "output_type": "stream",
          "name": "stdout",
          "text": [
            "8\n",
            "8\n",
            "-1\n",
            "-1\n"
          ]
        },
        {
          "output_type": "error",
          "ename": "ValueError",
          "evalue": "substring not found",
          "traceback": [
            "\u001b[0;31m---------------------------------------------------------------------------\u001b[0m",
            "\u001b[0;31mValueError\u001b[0m                                Traceback (most recent call last)",
            "\u001b[0;32m/tmp/ipython-input-1167137459.py\u001b[0m in \u001b[0;36m<cell line: 0>\u001b[0;34m()\u001b[0m\n\u001b[1;32m      4\u001b[0m \u001b[0mprint\u001b[0m\u001b[0;34m(\u001b[0m\u001b[0mtext\u001b[0m\u001b[0;34m.\u001b[0m\u001b[0mfind\u001b[0m\u001b[0;34m(\u001b[0m\u001b[0;34m\"x\"\u001b[0m\u001b[0;34m)\u001b[0m\u001b[0;34m)\u001b[0m\u001b[0;34m\u001b[0m\u001b[0;34m\u001b[0m\u001b[0m\n\u001b[1;32m      5\u001b[0m \u001b[0mprint\u001b[0m\u001b[0;34m(\u001b[0m\u001b[0mtext\u001b[0m\u001b[0;34m.\u001b[0m\u001b[0mfind\u001b[0m\u001b[0;34m(\u001b[0m\u001b[0;34m\"q\"\u001b[0m\u001b[0;34m)\u001b[0m\u001b[0;34m)\u001b[0m\u001b[0;34m\u001b[0m\u001b[0;34m\u001b[0m\u001b[0m\n\u001b[0;32m----> 6\u001b[0;31m \u001b[0mprint\u001b[0m\u001b[0;34m(\u001b[0m\u001b[0mtext\u001b[0m\u001b[0;34m.\u001b[0m\u001b[0mindex\u001b[0m\u001b[0;34m(\u001b[0m\u001b[0;34m\"q\"\u001b[0m\u001b[0;34m)\u001b[0m\u001b[0;34m)\u001b[0m\u001b[0;34m\u001b[0m\u001b[0;34m\u001b[0m\u001b[0m\n\u001b[0m",
            "\u001b[0;31mValueError\u001b[0m: substring not found"
          ]
        }
      ]
    },
    {
      "cell_type": "code",
      "source": [
        "text = \"this is python python class\"\n",
        "print(text.count(\"python\"))\n",
        "print(text.count(\"python\",7,25))"
      ],
      "metadata": {
        "colab": {
          "base_uri": "https://localhost:8080/"
        },
        "id": "X6Zc4zfdnVyd",
        "outputId": "dce123e9-14a2-4af2-ee67-88990d85f7b1"
      },
      "execution_count": null,
      "outputs": [
        {
          "output_type": "stream",
          "name": "stdout",
          "text": [
            "2\n",
            "2\n"
          ]
        }
      ]
    },
    {
      "cell_type": "code",
      "source": [
        "word=[\"how\",\"are\",\"you\"]\n",
        "for i in word:\n",
        "  print(i)\n",
        "print(word.strip())"
      ],
      "metadata": {
        "colab": {
          "base_uri": "https://localhost:8080/",
          "height": 228
        },
        "id": "fJMeEXMMn4Ew",
        "outputId": "51be4967-1943-4cbd-95b3-c073aa61306a"
      },
      "execution_count": null,
      "outputs": [
        {
          "output_type": "stream",
          "name": "stdout",
          "text": [
            "how\n",
            "are\n",
            "you\n"
          ]
        },
        {
          "output_type": "error",
          "ename": "AttributeError",
          "evalue": "'list' object has no attribute 'strip'",
          "traceback": [
            "\u001b[0;31m---------------------------------------------------------------------------\u001b[0m",
            "\u001b[0;31mAttributeError\u001b[0m                            Traceback (most recent call last)",
            "\u001b[0;32m/tmp/ipython-input-2355697663.py\u001b[0m in \u001b[0;36m<cell line: 0>\u001b[0;34m()\u001b[0m\n\u001b[1;32m      2\u001b[0m \u001b[0;32mfor\u001b[0m \u001b[0mi\u001b[0m \u001b[0;32min\u001b[0m \u001b[0mword\u001b[0m\u001b[0;34m:\u001b[0m\u001b[0;34m\u001b[0m\u001b[0;34m\u001b[0m\u001b[0m\n\u001b[1;32m      3\u001b[0m   \u001b[0mprint\u001b[0m\u001b[0;34m(\u001b[0m\u001b[0mi\u001b[0m\u001b[0;34m)\u001b[0m\u001b[0;34m\u001b[0m\u001b[0;34m\u001b[0m\u001b[0m\n\u001b[0;32m----> 4\u001b[0;31m \u001b[0mprint\u001b[0m\u001b[0;34m(\u001b[0m\u001b[0mword\u001b[0m\u001b[0;34m.\u001b[0m\u001b[0mstrip\u001b[0m\u001b[0;34m(\u001b[0m\u001b[0;34m)\u001b[0m\u001b[0;34m)\u001b[0m\u001b[0;34m\u001b[0m\u001b[0;34m\u001b[0m\u001b[0m\n\u001b[0m",
            "\u001b[0;31mAttributeError\u001b[0m: 'list' object has no attribute 'strip'"
          ]
        }
      ]
    },
    {
      "cell_type": "code",
      "source": [
        "txt=\"hello i am aayush kumar jha\"\n",
        "print(txt.startswith(\"hello\"))\n",
        "print(txt.startswith(\"hello\",0,10))\n",
        "print(txt.endswith(\"jha\"))\n",
        "print(txt.endswith((\"jha\",\"Aayush\")))"
      ],
      "metadata": {
        "colab": {
          "base_uri": "https://localhost:8080/"
        },
        "id": "L5NKo_fcPDQY",
        "outputId": "73190f9d-8c49-453f-b951-7a2856e6cbce"
      },
      "execution_count": null,
      "outputs": [
        {
          "output_type": "stream",
          "name": "stdout",
          "text": [
            "True\n",
            "True\n",
            "True\n",
            "True\n"
          ]
        }
      ]
    },
    {
      "cell_type": "markdown",
      "source": [
        "#IN KEYWORD\n"
      ],
      "metadata": {
        "id": "8RpA2ZgvRjkT"
      }
    },
    {
      "cell_type": "code",
      "source": [
        "avg=\"thor capt america\"\n",
        "print(\"thor\" in avg)\n",
        "print(\"Loki\" not in avg)\n",
        "if \"loki\" not in avg :\n",
        "  print(\"No,Loki is not present\")\n",
        "if \"thor\" in avg :\n",
        "  print(\"Yes\")\n"
      ],
      "metadata": {
        "colab": {
          "base_uri": "https://localhost:8080/"
        },
        "id": "mjr8mnHXRmZ1",
        "outputId": "a85731d1-a3dc-4bc7-b57c-fc52f05be3c7"
      },
      "execution_count": null,
      "outputs": [
        {
          "output_type": "stream",
          "name": "stdout",
          "text": [
            "True\n",
            "True\n",
            "No,Loki is not present\n",
            "Yes\n"
          ]
        }
      ]
    },
    {
      "cell_type": "markdown",
      "source": [
        "Ques ) Given a sentence \"loki try to trick avenger \".check if \"loki\" is present in it .if yes print enemy detected otherwise all clear"
      ],
      "metadata": {
        "id": "7bNp7kwuSBJF"
      }
    },
    {
      "cell_type": "code",
      "source": [
        "sentence = \"loki try to trick avenger\"\n",
        "if \"loki\" in sentence:\n",
        "    print(\"enemy detected\")\n",
        "else:\n",
        "    print(\"all clear\")\n"
      ],
      "metadata": {
        "id": "Grh0s_vvSizC",
        "colab": {
          "base_uri": "https://localhost:8080/"
        },
        "outputId": "544e994e-a73b-4bb1-8c7c-dc4d0e54a895"
      },
      "execution_count": 1,
      "outputs": [
        {
          "output_type": "stream",
          "name": "stdout",
          "text": [
            "enemy detected\n"
          ]
        }
      ]
    },
    {
      "cell_type": "markdown",
      "source": [
        "Ques) We define the usage of capitals in a word to be right when one of the following cases hold.\n",
        "1)All letters in this word are capitals like USA.\n",
        "2)All letters in word are small.\n",
        "3)only the 1st letter in this word are capital like Google.\n",
        "given a string of word return true if the usage of capital is correct\n"
      ],
      "metadata": {
        "id": "XGdfohKPSqXx"
      }
    },
    {
      "cell_type": "code",
      "source": [
        "word=input(\"enter a word : \")\n",
        "if word == word.upper():\n",
        "    print(True)\n",
        "elif word == word.lower():\n",
        "    print(True)\n",
        "elif word == word.capitalize():\n",
        "    print(True)\n",
        "else:\n",
        "    print(False)\n"
      ],
      "metadata": {
        "colab": {
          "base_uri": "https://localhost:8080/"
        },
        "id": "TBiLFxs3UNXU",
        "outputId": "543db19f-b4f8-4196-df7d-ab85574a6c45"
      },
      "execution_count": 9,
      "outputs": [
        {
          "output_type": "stream",
          "name": "stdout",
          "text": [
            "enter a word : GooGle\n",
            "False\n"
          ]
        }
      ]
    },
    {
      "cell_type": "code",
      "source": [
        "word=[\"How\",\"are\",\"you\"]\n",
        "# print(word.strip(''))\n",
        "for i in word:\n",
        "  print(i.strip(''))"
      ],
      "metadata": {
        "colab": {
          "base_uri": "https://localhost:8080/"
        },
        "id": "6Qa8udrWV8WJ",
        "outputId": "eb832ce8-c54c-4af8-aae4-31a04589f38b"
      },
      "execution_count": null,
      "outputs": [
        {
          "output_type": "stream",
          "name": "stdout",
          "text": [
            "How\n",
            "are\n",
            "you\n"
          ]
        }
      ]
    },
    {
      "cell_type": "markdown",
      "source": [
        "#BOOLEAN"
      ],
      "metadata": {
        "id": "coXQA1XJWZQ-"
      }
    },
    {
      "cell_type": "code",
      "source": [
        "print(type(True))"
      ],
      "metadata": {
        "colab": {
          "base_uri": "https://localhost:8080/"
        },
        "id": "5w2ZVFYkW-b9",
        "outputId": "04601dfd-7999-42a1-dcc3-5b396f82bc74"
      },
      "execution_count": null,
      "outputs": [
        {
          "output_type": "stream",
          "name": "stdout",
          "text": [
            "<class 'bool'>\n"
          ]
        }
      ]
    },
    {
      "cell_type": "code",
      "source": [
        "a,b=10,20\n",
        "print(a and b)\n",
        "print(a or b)\n",
        "print(a^b)\n",
        "print(10>9 and 10>7)\n",
        "print(5>3 or 4>10)\n",
        "print(not(5>3))\n",
        "print(bool([])) #if empty then false\n",
        "print(bool(\" \")) #if not empty then true\n"
      ],
      "metadata": {
        "colab": {
          "base_uri": "https://localhost:8080/"
        },
        "id": "tJaEQ1Y0XNzk",
        "outputId": "6b1be251-2fd5-4ee6-94c6-f34d966aa250"
      },
      "execution_count": null,
      "outputs": [
        {
          "output_type": "stream",
          "name": "stdout",
          "text": [
            "20\n",
            "10\n",
            "30\n",
            "True\n",
            "True\n",
            "False\n",
            "False\n",
            "True\n"
          ]
        }
      ]
    },
    {
      "cell_type": "markdown",
      "source": [
        "#Swap 2 numbers using xor operator.,\n"
      ],
      "metadata": {
        "id": "8VPxAHPXZSAq"
      }
    },
    {
      "cell_type": "code",
      "metadata": {
        "colab": {
          "base_uri": "https://localhost:8080/"
        },
        "id": "722fdc2c",
        "outputId": "79a3d808-7f65-4620-f3a6-57c1891c435c"
      },
      "source": [
        "a,b = 10,20\n",
        "print(f\"Before swapping: a = {a}, b = {b}\")\n",
        "a = a ^ b\n",
        "b = a ^ b\n",
        "a = a ^ b\n",
        "print(f\"After swapping: a = {a}, b = {b}\")"
      ],
      "execution_count": null,
      "outputs": [
        {
          "output_type": "stream",
          "name": "stdout",
          "text": [
            "Before swapping: a = 10, b = 20\n",
            "After swapping: a = 20, b = 10\n"
          ]
        }
      ]
    }
  ],
  "metadata": {
    "colab": {
      "provenance": [],
      "include_colab_link": true
    },
    "kernelspec": {
      "display_name": "Python 3",
      "name": "python3"
    }
  },
  "nbformat": 4,
  "nbformat_minor": 0
}